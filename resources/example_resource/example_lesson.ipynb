{
  "cells": [
    {
      "cell_type": "markdown",
      "metadata": {},
      "source": [
        "# Example Interactive Quiz\n",
        "\n",
        "This notebook demonstrates how to embed an **interactive quiz** using `jupyterquiz`."
      ]
    },
    {
      "cell_type": "code",
      "execution_count": null,
      "metadata": {},
      "outputs": [],
      "source": [
        "from jupyterquiz import display_quiz\n",
        "display_quiz(\"../../quizzes/sample_quiz.json\")\n",
        "\n",
        "# You can also hide this cell by changing the meta-data of the cell to have the tag `remove-input`."
      ]
    },
    {
      "cell_type": "markdown",
      "metadata": {},
      "source": [
        "You can create more quizzes by adding JSON files to the `quizzes/` folder and referencing them here."
      ]
    }
  ],
  "metadata": {
    "kernelspec": {
      "display_name": "Python 3",
      "language": "python",
      "name": "python3"
    },
    "language_info": {
      "name": "python",
      "version": "3.11"
    }
  },
  "nbformat": 4,
  "nbformat_minor": 5
}
